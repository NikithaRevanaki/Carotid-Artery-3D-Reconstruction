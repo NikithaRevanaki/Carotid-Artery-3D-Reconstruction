{
 "cells": [
  {
   "cell_type": "code",
   "execution_count": 1,
   "id": "87aa448d",
   "metadata": {},
   "outputs": [],
   "source": [
    "import cv2\n",
    "import matplotlib.pyplot as plt\n",
    "import numpy as np\n",
    "import math\n",
    "#import pydicom\n",
    "import scipy.ndimage.filters as fi\n",
    "from scipy.signal import savgol_filter\n",
    "import scipy.interpolate as intp\n",
    "#import DynamicProgramming as DP\n",
    "from mpl_toolkits import mplot3d"
   ]
  },
  {
   "cell_type": "code",
   "execution_count": 2,
   "id": "345dda65",
   "metadata": {},
   "outputs": [
    {
     "data": {
      "text/plain": [
       "<Figure size 640x480 with 0 Axes>"
      ]
     },
     "metadata": {},
     "output_type": "display_data"
    }
   ],
   "source": [
    "LOCAL = 20\n",
    "RADIUS, SPREAD = 16, 4\n",
    "RMIN, RMAX = 5, 80\n",
    "MASK_SIZE = 3\n",
    "mask = np.array([-1] * MASK_SIZE + [1] * MASK_SIZE) / MASK_SIZE\n",
    "MAX_NODE = 3\n",
    "DISPLAY = False\n",
    "plt.set_cmap('gray')  # to set default colour for matplotlib to gray"
   ]
  },
  {
   "cell_type": "code",
   "execution_count": 3,
   "id": "ebf1d002",
   "metadata": {},
   "outputs": [],
   "source": [
    "path = 'C:\\\\Users\\\\Nikitha R\\\\OneDrive\\\\Desktop\\\\Toshiba_test\\\\img\\\\'\n",
    "\n",
    "file = 'US0001.png'"
   ]
  },
  {
   "cell_type": "code",
   "execution_count": 4,
   "id": "8cc428e6",
   "metadata": {},
   "outputs": [],
   "source": [
    "import sys      # to check if the program is running in debug mode or not\n",
    "def showImage(im, title=None, numWin = None, show=True):\n",
    "   # if 'pydevd' in sys.modules and DISPLAY:     # The variable pydevd is true if program is running in debug mode\n",
    "        if numWin != None: plt.subplot(numWin)\n",
    "        plt.imshow(im)\n",
    "        plt.title(title)\n",
    "        print ('hello ')\n",
    "        if show:\n",
    "            plt.show()\n",
    "            plt.waitforbuttonpress()\n",
    "            plt.close()\n",
    "            return"
   ]
  },
  {
   "cell_type": "code",
   "execution_count": 5,
   "id": "2ec16a55",
   "metadata": {},
   "outputs": [],
   "source": [
    "def templateMatching(img, tpl):    #It uses numpy array multiplication and summation which is very fast\n",
    "    ims = img.shape\n",
    "    ts = tpl.shape\n",
    "    ts = ts[0]//2, ts[1]//2\n",
    "    corIm = np.zeros(ims, int)\n",
    "    for r in range(ts[0], ims[0]-ts[0]):\n",
    "        for c in range(ts[1], ims[1]-ts[1]):\n",
    "            subim = img[r-ts[0]:r+ts[0]+1, c-ts[1]:c+ts[1]+1]\n",
    "            corr = np.sum(subim * tpl)\n",
    "            corIm[r, c] = corr\n",
    "    return (corIm)"
   ]
  },
  {
   "cell_type": "code",
   "execution_count": 6,
   "id": "d0304c11",
   "metadata": {},
   "outputs": [],
   "source": [
    "def plotLineHisto(line, width=None):   #Summaation of pixels in a sub-window of width X width in the image is available in corSum\n",
    "    plt.plot(line), plt.show(block=False)\n",
    "    plt.text(50, 50, 'width = {}'.format(width))\n",
    "    plt.waitforbuttonpress()\n",
    "    plt.close()"
   ]
  },
  {
   "cell_type": "code",
   "execution_count": 7,
   "id": "f33a6abf",
   "metadata": {},
   "outputs": [],
   "source": [
    "def deleteLocMax(img, loc):\n",
    "    x, y = loc[0], loc[1]\n",
    "    img[y-LOCAL:y+LOCAL, x-LOCAL:x+LOCAL] = 0"
   ]
  },
  {
   "cell_type": "code",
   "execution_count": 8,
   "id": "54df8be1",
   "metadata": {},
   "outputs": [],
   "source": [
    "# it finds sum of all positive correlation values in a sub-window of increasing size till it reaches peak value\n",
    "def findMaxRegion(cimg):\n",
    "    h, w = cimg.shape[0:2]\n",
    "    max = cimg.max()\n",
    "    maxloc = np.argmax(cimg)\n",
    "    RMAX = maxloc // w\n",
    "    cmax = maxloc - RMAX * w\n",
    "    return ((cmax, RMAX), max)"
   ]
  },
  {
   "cell_type": "code",
   "execution_count": 9,
   "id": "994dd21a",
   "metadata": {},
   "outputs": [],
   "source": [
    "def showResult(img, tpl, loc):\n",
    "    global DISPLAY\n",
    "    tpl -= np.min(tpl)\n",
    "    tpl = (tpl * 255) // np.max(tpl)\n",
    "    h, w  = tpl.shape    #size of template after resizing that was found in image\n",
    "    x, y = loc[0] - w//2, loc[1]-h//2 #location of template\n",
    "    alpha = 0.75\n",
    "    resIm = img.copy()\n",
    "    for r in range(h):\n",
    "        for c in range(w):\n",
    "            resIm[y+r, x+c] = alpha * resIm[y+r, x+c] + (1-alpha) * tpl[r,c]\n",
    "\n",
    "    showImage(resIm, 'template superimposed', show=True)"
   ]
  },
  {
   "cell_type": "code",
   "execution_count": 10,
   "id": "06d01cf1",
   "metadata": {},
   "outputs": [],
   "source": [
    "def LoGDisc(radedge, sigma=3, plot=True):\n",
    "    gsize = sigma * 3\n",
    "    rad = radedge + 4*sigma\n",
    "    circularEdge = np.ones((2 * rad + 1, 2 * rad + 1), float)\n",
    "\n",
    "    gaussian = np.zeros((2 * gsize + 1, 2 * gsize + 1), float)\n",
    "    gaussian [ gsize, gsize] = 1\n",
    "    gaussian = fi.gaussian_filter ( gaussian, sigma)\n",
    " #   if plot: showImage(gaussian, 'Gaussian', show=True)\n",
    "  #  if plot: plotLineHisto(gaussian[gsize])\n",
    "    LoGTpl = cv2.Laplacian(gaussian, cv2.CV_64F, ksize=3)\n",
    "   # if plot: showImage(LoGTpl, 'LoG', show=True)\n",
    "   # if plot: plotLineHisto(LoGTpl[gsize])\n",
    "\n",
    "    for ri in range(-rad, rad+1):\n",
    "        for ci in range(-rad, rad + 1):\n",
    "            r2 =  math.sqrt(ri*ri + ci*ci)\n",
    "            if r2 > radedge:\n",
    "                circularEdge[ri+rad, ci+rad] = 0\n",
    "\n",
    "    template = cv2.filter2D(circularEdge, -1, LoGTpl)\n",
    "   # if plot: showImage(template, 'DoG', show=True)\n",
    "   # if plot: plotLineHisto(template[rad])\n",
    "    return(template)\n",
    "\n",
    "#--------------------------------------------------------------------\n",
    "def readImage(file):\n",
    "    if file[-4:] == '.dcm':\n",
    "        dimg = pydicom.dcmread(file)   # read the dicom image\n",
    "        imgf = dimg.pixel_array     # extract the pixel data from the dicom image file\n",
    "        img = np.uint8(imgf * (255 / np.max(imgf)))  # to create ndarray of bytes needed for displaying image\n",
    "    else:\n",
    "        img = cv2.imread(file, 0)\n",
    "        img = cv2.resize(img, (256, 256))\n",
    "    return (img)"
   ]
  },
  {
   "cell_type": "code",
   "execution_count": 11,
   "id": "d3e2494f",
   "metadata": {},
   "outputs": [],
   "source": [
    "def findMaxCorrelation(img, rho, sigma):\n",
    "    cuRMAX, maxloc = 0, (0,0)\n",
    "    for s in range (0, 1):\n",
    "        LoGTpl = LoGDisc(rho+s, sigma)\n",
    "        CorImg = templateMatching(img, LoGTpl)\n",
    "        loc, max = findMaxRegion(CorImg)\n",
    "        #showImage(CorImg, output, show=True)\n",
    "        if max > cuRMAX:\n",
    "            cuRMAX = max\n",
    "            maxloc = loc\n",
    "            maxs = s\n",
    "            cimg = CorImg\n",
    "          #  print('current max and location is for s ', max, loc, maxs)\n",
    "\n",
    "    return(cimg, maxloc, maxs)"
   ]
  },
  {
   "cell_type": "code",
   "execution_count": 12,
   "id": "edb1d104",
   "metadata": {},
   "outputs": [],
   "source": [
    "def getStrip(img, xc, yc):\n",
    "\n",
    "    strip = np.zeros((300, RMAX - RMIN), np.uint8)\n",
    "\n",
    "    for theta in range(300):\n",
    "        th = theta * 2 * np.pi / 300\n",
    "        for r in range(RMIN, RMAX):\n",
    "            x = min(255, int(xc + r * np.cos(th) + 0.5))\n",
    "            y = min(255, int(yc + r * np.sin(th) + 0.5))\n",
    "            strip[theta, r - RMIN] = img[y, x]\n",
    "\n",
    "    #showImage(strip,show=True)\n",
    "    return (strip)"
   ]
  },
  {
   "cell_type": "code",
   "execution_count": 13,
   "id": "997a552a",
   "metadata": {},
   "outputs": [],
   "source": [
    "def verifyLoc(img, loc):\n",
    "    diff = lambda v1, v2: abs(v1-v2)+1 if v1+v2 != 0 else 10\n",
    "\n",
    "    strip = getStrip(img, loc[0], loc[1])\n",
    "    #hist = cv2.calcHist([strip], [0], None, [256], [0,256])\n",
    "    #plt.plot(hist), plt.show()\n",
    "    thresh = 20\n",
    "    strip[strip < thresh] = 0\n",
    "\n",
    "    stripMax = np.zeros(300)\n",
    "    for th in range(300):\n",
    "        stripMax[th] = np.argmax(strip[th, :])+1\n",
    "\n",
    "    score = 0\n",
    "    for th in range(399):\n",
    "        score += 1 / diff(stripMax[th], stripMax[th+1])\n",
    "\n",
    "    return (score)\n"
   ]
  },
  {
   "cell_type": "code",
   "execution_count": 14,
   "id": "8cb858f5",
   "metadata": {},
   "outputs": [],
   "source": [
    "THRESHOLD = 9\n",
    "inRange = lambda pi, ci, edges: True if abs(edges[pi] - edges[ci]) < THRESHOLD and edges[ci] != 0 else False\n",
    "\n",
    "def longestRun(maxEdge):\n",
    "    h, i = maxEdge.shape[0], 1\n",
    "    best, st, len = 0, 0, 1\n",
    "     #i=0\n",
    "    while i < h:\n",
    "        while i < h and inRange(st, i, maxEdge): i += 1 # find the first run without a discontinuity\n",
    "        if i-st > len:\n",
    "            best, len = st, i-st\n",
    "        else: st = i\n",
    "    avg = maxEdge[best:best+len].sum() / len\n",
    "    return avg"
   ]
  },
  {
   "cell_type": "code",
   "execution_count": 42,
   "id": "6c241da3",
   "metadata": {},
   "outputs": [],
   "source": [
    "def removeOutliers(maxEdge):\n",
    "    # replace edge points that are missing by interpolating with next valid edge point and previous point\n",
    "\n",
    "    h, i = maxEdge.shape[0], 1\n",
    "    avg = longestRun(maxEdge)\n",
    "    maxEdge[0], maxEdge[h-1] = avg, avg # the first and last edge indexes are set to average of longest run\n",
    "    # so that discontinuity is checked with respect to that\n",
    "    #i=0\n",
    "    while i < h - 1:\n",
    "        while i < h and inRange(i-1, i, maxEdge): i += 1 # find the first row where there is a discontinuity\n",
    "\n",
    "        j = i + 1\n",
    "        while j < h and inRange(i-1,j,maxEdge) == False: j += 1\n",
    "        # find the next edge pixel that will be used for interpolation (pixel i to j-1)\n",
    "        # rows in the range i to j have no edges (maxEdge = 0) so they should be interpolated\n",
    "        for k in range(i, j-1):\n",
    "            maxEdge[k] = maxEdge[i - 1] + (maxEdge[j] - maxEdge[i - 1]) * (k - i + 1) // (j - i + 1)\n",
    "\n",
    "        i = j + 1  # Edge pixel upto j checked and interpolated. The net edge pixel to be checked for interpolation\n",
    "    return"
   ]
  },
  {
   "cell_type": "code",
   "execution_count": 43,
   "id": "40a33e86",
   "metadata": {},
   "outputs": [],
   "source": [
    "def adjustBoundary(strip, maxIDs):\n",
    "    #Finds edges where there is a discontinuity wrt previous edge and replaces with best edge in the neighbourhood\n",
    "    h, w = strip.shape[:2]\n",
    "    for j in range(1, h):\n",
    "        pidx, nidx = maxIDs[j-1], maxIDs[j] # index of current and previous edge\n",
    "        if abs(nidx-pidx) > 3:  # There is a gap that needs to be filled with best edge nearest to it\n",
    "            max, idx = 0, nidx\n",
    "            for i in range(pidx-2, pidx+3):\n",
    "                if i >= w-MASK_SIZE or i < MASK_SIZE: continue\n",
    "                corr = np.sum(strip[j,i-MASK_SIZE:i+MASK_SIZE] * mask)\n",
    "                if corr-(nidx-i)**2 > max: max, idx = corr, i\n",
    "            maxIDs[j] = idx\n",
    "    return"
   ]
  },
  {
   "cell_type": "code",
   "execution_count": 44,
   "id": "47fb0d7f",
   "metadata": {},
   "outputs": [],
   "source": [
    "OVERLAP = 10\n",
    "\n",
    "def smoothBoundary(pts):\n",
    "    h = pts.shape[0]\n",
    "    extEdges = np.zeros((h+2*OVERLAP), int)\n",
    "    extEdges[OVERLAP:h+OVERLAP] = pts\n",
    "    extEdges[0:OVERLAP] = pts[h-OVERLAP:]    # reversing the last OVERLAP items\n",
    "    extEdges[h+OVERLAP:] = pts[0:OVERLAP]\n",
    "\n",
    "    smooth_intpts = np.array(savgol_filter(extEdges,101,3), int)\n",
    "    return(smooth_intpts[OVERLAP:h+OVERLAP])"
   ]
  },
  {
   "cell_type": "code",
   "execution_count": 45,
   "id": "f16e0d85",
   "metadata": {},
   "outputs": [],
   "source": [
    "def show3dImage():\n",
    "  \n",
    "  global DISPLAY\n",
    "\n",
    "  rho, sigma = RADIUS, SPREAD\n",
    "  fig = plt.figure()\n",
    "  ax = plt.axes(projection=\"3d\")\n",
    "  for i in range(1,11):\n",
    "    \n",
    "    nm=str(i)\n",
    "    name=path+'US000'+nm+'.png'\n",
    "    print(name)\n",
    "    img = readImage(path+'US000'+nm+'.png')\n",
    "   \n",
    "    cimg, loc, maxs = findMaxCorrelation(img, rho, sigma)\n",
    "    #print ('max location is: ', maxloc)\n",
    "  \n",
    "    BPts= getBoundary(img,loc)\n",
    "       \n",
    "    x=[]\n",
    "    y=[]\n",
    "    \n",
    "    for t in range(300):\n",
    "        th = t * 2 * np.pi / 300\n",
    "        xp = int(loc[0] + (BPts[t] + RMIN) * np.cos(th) + 0.5)\n",
    "        yp = int(loc[1] + (BPts[t] + RMIN) * np.sin(th) + 0.5)\n",
    "        x.append(xp)\n",
    "        y.append(yp)\n",
    "\n",
    "    \n",
    "    ax.scatter3D(x,y,i,c='r',cmap='rainbow')\n",
    "  plt.show()     "
   ]
  },
  {
   "cell_type": "code",
   "execution_count": 46,
   "id": "d561c904",
   "metadata": {},
   "outputs": [],
   "source": [
    "def getEdgeMap(strip): # applying edge detector\n",
    "    levels, nodes = strip.shape[:2]\n",
    "    corim = np.zeros((levels, nodes), int)\n",
    "    corim[:,0] = 1  # The first col on each row is set to 1 so that if there are no edges on a row then also there\n",
    "    # will be one non-zero pixel\n",
    "\n",
    "    for lvl in range(levels):\n",
    "        for nd in range(MASK_SIZE, nodes-MASK_SIZE):\n",
    "            corim[lvl, nd] = int(np.sum(strip[lvl, nd-MASK_SIZE:nd+MASK_SIZE] * mask))\n",
    "    return (corim)"
   ]
  },
  {
   "cell_type": "code",
   "execution_count": 47,
   "id": "8ff93d09",
   "metadata": {},
   "outputs": [],
   "source": [
    "def getBoundary(im, loc):\n",
    "    strip = getStrip(im, loc[0], loc[1])\n",
    "    edgeIm = getEdgeMap(strip)\n",
    "    h, w = edgeIm.shape\n",
    "    maxEdge = np.argmax(edgeIm, axis=1)\n",
    "    i = 1  # The first edge (i = 0) is considered to be a valid one (as it is set to average value)\n",
    "\n",
    "    #if 0:\n",
    "    #    stNode, endNode = 15, 20\n",
    "    #    stl, endl = 25, 100\n",
    "    #    DP.findBestPath(edgeIm[stl:endl, stNode:endNode], levels=endl-stl, batch_size=6)\n",
    "    #    return\n",
    "\n",
    "    #--------------code below is bypassed for checking findbestpath\n",
    "\n",
    "    \n",
    "    #plt.subplot(311), plt.imshow(np.transpose(edgeIm)), plt.plot(maxEdge)\n",
    "    removeOutliers(maxEdge)\n",
    "    #plt.subplot(312), plt.imshow(np.transpose(edgeIm)), plt.plot(maxEdge)\n",
    "    adjustBoundary(strip, maxEdge)\n",
    "    #plt.subplot(313), plt.imshow(np.transpose(edgeIm)), plt.plot(maxEdge), plt.show()\n",
    "    smoothBPts = smoothBoundary(maxEdge)\n",
    "    #plt.figure(1)\n",
    "    #plt.imshow(np.transpose(edgeIm))\n",
    "    #plt.plot(smoothBPts), plt.show(block=True)\n",
    "\n",
    "    return(smoothBPts)"
   ]
  },
  {
   "cell_type": "code",
   "execution_count": 48,
   "id": "4ce4356f",
   "metadata": {},
   "outputs": [],
   "source": [
    "def showBoundary(img, BPts, loc):\n",
    "    carotidPts = []\n",
    "    for t in range(300):\n",
    "        th = t * 2 * np.pi / 300\n",
    "        x = int(loc[0] + (BPts[t] + RMIN) * np.cos(th) + 0.5)\n",
    "        y = int(loc[1] + (BPts[t] + RMIN) * np.sin(th) + 0.5)\n",
    "        carotidPts.append((x, y))\n",
    "\n",
    "    carotidPts = np.array(carotidPts)\n",
    "    plt.figure(1)\n",
    "    plt.imshow(img, cmap='gray'), plt.title('Image with boundary detected')\n",
    "    plt.plot(carotidPts[:, 0], carotidPts[:, 1], 'r-', linewidth=2)\n",
    "    plt.show(block=True)\n",
    "    return"
   ]
  },
  {
   "cell_type": "code",
   "execution_count": 49,
   "id": "7157b2ac",
   "metadata": {},
   "outputs": [],
   "source": [
    "def main():\n",
    "  \n",
    "  show3dImage()"
   ]
  },
  {
   "cell_type": "code",
   "execution_count": 50,
   "id": "b7d167c8",
   "metadata": {
    "scrolled": true
   },
   "outputs": [
    {
     "name": "stdout",
     "output_type": "stream",
     "text": [
      "C:\\Users\\Nikitha R\\OneDrive\\Desktop\\Toshiba_test\\img\\US0001.png\n"
     ]
    },
    {
     "name": "stderr",
     "output_type": "stream",
     "text": [
      "C:\\Users\\Nikitha R\\AppData\\Local\\Temp\\ipykernel_24760\\3151077714.py:8: DeprecationWarning: Please use `gaussian_filter` from the `scipy.ndimage` namespace, the `scipy.ndimage.filters` namespace is deprecated.\n",
      "  gaussian = fi.gaussian_filter ( gaussian, sigma)\n",
      "C:\\Users\\Nikitha R\\AppData\\Local\\Temp\\ipykernel_24760\\773653623.py:31: UserWarning: No data for colormapping provided via 'c'. Parameters 'cmap' will be ignored\n",
      "  ax.scatter3D(x,y,i,c='r',cmap='rainbow')\n"
     ]
    },
    {
     "name": "stdout",
     "output_type": "stream",
     "text": [
      "C:\\Users\\Nikitha R\\OneDrive\\Desktop\\Toshiba_test\\img\\US0002.png\n",
      "C:\\Users\\Nikitha R\\OneDrive\\Desktop\\Toshiba_test\\img\\US0003.png\n",
      "C:\\Users\\Nikitha R\\OneDrive\\Desktop\\Toshiba_test\\img\\US0004.png\n"
     ]
    },
    {
     "ename": "IndexError",
     "evalue": "index 300 is out of bounds for axis 0 with size 300",
     "output_type": "error",
     "traceback": [
      "\u001b[1;31m---------------------------------------------------------------------------\u001b[0m",
      "\u001b[1;31mIndexError\u001b[0m                                Traceback (most recent call last)",
      "Cell \u001b[1;32mIn[50], line 1\u001b[0m\n\u001b[1;32m----> 1\u001b[0m \u001b[43mmain\u001b[49m\u001b[43m(\u001b[49m\u001b[43m)\u001b[49m\n",
      "Cell \u001b[1;32mIn[49], line 3\u001b[0m, in \u001b[0;36mmain\u001b[1;34m()\u001b[0m\n\u001b[0;32m      1\u001b[0m \u001b[38;5;28;01mdef\u001b[39;00m \u001b[38;5;21mmain\u001b[39m():\n\u001b[1;32m----> 3\u001b[0m   \u001b[43mshow3dImage\u001b[49m\u001b[43m(\u001b[49m\u001b[43m)\u001b[49m\n",
      "Cell \u001b[1;32mIn[45], line 18\u001b[0m, in \u001b[0;36mshow3dImage\u001b[1;34m()\u001b[0m\n\u001b[0;32m     15\u001b[0m cimg, loc, maxs \u001b[38;5;241m=\u001b[39m findMaxCorrelation(img, rho, sigma)\n\u001b[0;32m     16\u001b[0m \u001b[38;5;66;03m#print ('max location is: ', maxloc)\u001b[39;00m\n\u001b[1;32m---> 18\u001b[0m BPts\u001b[38;5;241m=\u001b[39m \u001b[43mgetBoundary\u001b[49m\u001b[43m(\u001b[49m\u001b[43mimg\u001b[49m\u001b[43m,\u001b[49m\u001b[43mloc\u001b[49m\u001b[43m)\u001b[49m\n\u001b[0;32m     20\u001b[0m x\u001b[38;5;241m=\u001b[39m[]\n\u001b[0;32m     21\u001b[0m y\u001b[38;5;241m=\u001b[39m[]\n",
      "Cell \u001b[1;32mIn[47], line 18\u001b[0m, in \u001b[0;36mgetBoundary\u001b[1;34m(im, loc)\u001b[0m\n\u001b[0;32m      6\u001b[0m i \u001b[38;5;241m=\u001b[39m \u001b[38;5;241m1\u001b[39m  \u001b[38;5;66;03m# The first edge (i = 0) is considered to be a valid one (as it is set to average value)\u001b[39;00m\n\u001b[0;32m      8\u001b[0m \u001b[38;5;66;03m#if 0:\u001b[39;00m\n\u001b[0;32m      9\u001b[0m \u001b[38;5;66;03m#    stNode, endNode = 15, 20\u001b[39;00m\n\u001b[0;32m     10\u001b[0m \u001b[38;5;66;03m#    stl, endl = 25, 100\u001b[39;00m\n\u001b[1;32m   (...)\u001b[0m\n\u001b[0;32m     16\u001b[0m \n\u001b[0;32m     17\u001b[0m \u001b[38;5;66;03m#plt.subplot(311), plt.imshow(np.transpose(edgeIm)), plt.plot(maxEdge)\u001b[39;00m\n\u001b[1;32m---> 18\u001b[0m \u001b[43mremoveOutliers\u001b[49m\u001b[43m(\u001b[49m\u001b[43mmaxEdge\u001b[49m\u001b[43m)\u001b[49m\n\u001b[0;32m     19\u001b[0m \u001b[38;5;66;03m#plt.subplot(312), plt.imshow(np.transpose(edgeIm)), plt.plot(maxEdge)\u001b[39;00m\n\u001b[0;32m     20\u001b[0m adjustBoundary(strip, maxEdge)\n",
      "Cell \u001b[1;32mIn[42], line 17\u001b[0m, in \u001b[0;36mremoveOutliers\u001b[1;34m(maxEdge)\u001b[0m\n\u001b[0;32m     14\u001b[0m     \u001b[38;5;66;03m# find the next edge pixel that will be used for interpolation (pixel i to j-1)\u001b[39;00m\n\u001b[0;32m     15\u001b[0m     \u001b[38;5;66;03m# rows in the range i to j have no edges (maxEdge = 0) so they should be interpolated\u001b[39;00m\n\u001b[0;32m     16\u001b[0m     \u001b[38;5;28;01mfor\u001b[39;00m k \u001b[38;5;129;01min\u001b[39;00m \u001b[38;5;28mrange\u001b[39m(i, j\u001b[38;5;241m-\u001b[39m\u001b[38;5;241m1\u001b[39m):\n\u001b[1;32m---> 17\u001b[0m         maxEdge[k] \u001b[38;5;241m=\u001b[39m maxEdge[i \u001b[38;5;241m-\u001b[39m \u001b[38;5;241m1\u001b[39m] \u001b[38;5;241m+\u001b[39m (\u001b[43mmaxEdge\u001b[49m\u001b[43m[\u001b[49m\u001b[43mj\u001b[49m\u001b[43m]\u001b[49m \u001b[38;5;241m-\u001b[39m maxEdge[i \u001b[38;5;241m-\u001b[39m \u001b[38;5;241m1\u001b[39m]) \u001b[38;5;241m*\u001b[39m (k \u001b[38;5;241m-\u001b[39m i \u001b[38;5;241m+\u001b[39m \u001b[38;5;241m1\u001b[39m) \u001b[38;5;241m/\u001b[39m\u001b[38;5;241m/\u001b[39m (j \u001b[38;5;241m-\u001b[39m i \u001b[38;5;241m+\u001b[39m \u001b[38;5;241m1\u001b[39m)\n\u001b[0;32m     19\u001b[0m     i \u001b[38;5;241m=\u001b[39m j \u001b[38;5;241m+\u001b[39m \u001b[38;5;241m1\u001b[39m  \u001b[38;5;66;03m# Edge pixel upto j checked and interpolated. The net edge pixel to be checked for interpolation\u001b[39;00m\n\u001b[0;32m     20\u001b[0m \u001b[38;5;28;01mreturn\u001b[39;00m\n",
      "\u001b[1;31mIndexError\u001b[0m: index 300 is out of bounds for axis 0 with size 300"
     ]
    },
    {
     "data": {
      "image/png": "[encoded data removed]",
      "text/plain": [
       "<Figure size 640x480 with 1 Axes>"
      ]
     },
     "metadata": {},
     "output_type": "display_data"
    }
   ],
   "source": [
    "main()"
   ]
  },
  {
   "cell_type": "code",
   "execution_count": null,
   "id": "bfcfe6c2",
   "metadata": {},
   "outputs": [],
   "source": []
  }
 ],
 "metadata": {
  "kernelspec": {
   "display_name": "Python 3 (ipykernel)",
   "language": "python",
   "name": "python3"
  },
  "language_info": {
   "codemirror_mode": {
    "name": "ipython",
    "version": 3
   },
   "file_extension": ".py",
   "mimetype": "text/x-python",
   "name": "python",
   "nbconvert_exporter": "python",
   "pygments_lexer": "ipython3",
   "version": "3.10.9"
  }
 },
 "nbformat": 4,
 "nbformat_minor": 5
}
